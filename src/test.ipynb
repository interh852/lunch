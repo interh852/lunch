{
 "cells": [
  {
   "cell_type": "markdown",
   "metadata": {},
   "source": [
    "## Lunch Order List\n",
    "直近のOrder Listを取得しデータフレームに変換"
   ]
  },
  {
   "cell_type": "code",
   "execution_count": 26,
   "metadata": {},
   "outputs": [],
   "source": [
    "import json\n",
    "from datetime import datetime, timezone, timedelta\n",
    "# from pytz import timezone\n",
    "import jpholiday\n",
    "import pandas as pd\n",
    "import openpyxl\n",
    "import numpy as np\n",
    "from module import orderlunch\n",
    "import importlib\n",
    "importlib.reload(orderlunch)\n",
    "\n",
    "# Set the authentication information obtained from GCP\n",
    "PATH_CREDENTIALS = '../secret/order-lunch-project.json'\n",
    "# Read the google spreadsheet keys\n",
    "with open('../secret/sp_name.json') as f:\n",
    "    sp_names = json.load(f)\n",
    "\n",
    "# Instance of shokuraku spreadsheet\n",
    "skrk = orderlunch.Shokuraku(path_credentials=PATH_CREDENTIALS, spreadsheet_key=sp_names['shokuraku_test'])\n",
    "\n",
    "# Instance of shokuraku spreadsheet\n",
    "db = orderlunch.Shokuraku(path_credentials=PATH_CREDENTIALS, spreadsheet_key=sp_names['test'])"
   ]
  },
  {
   "cell_type": "code",
   "execution_count": 33,
   "metadata": {
    "tags": []
   },
   "outputs": [
    {
     "output_type": "execute_result",
     "data": {
      "text/plain": "              Date          Menu Price Takeuchi Koyanagi Noumura  Saito  \\\n0   2020/07/20 Mon        青椒肉絲弁当   500    FALSE    FALSE    TRUE  FALSE   \n1   2020/07/20 Mon     おにぎりバスケット   350    FALSE    FALSE   FALSE  FALSE   \n2   2020/07/20 Mon        焼きサバ弁当   400     TRUE    FALSE   FALSE  FALSE   \n3   2020/07/20 Mon  豚山賊焼き＆ハムカツ弁当   400    FALSE     TRUE   FALSE   TRUE   \n4   2020/07/20 Mon         牛佃煮弁当   450    FALSE    FALSE   FALSE  FALSE   \n5   2020/07/20 Mon  チーズinハンバーグ弁当   500    FALSE    FALSE   FALSE  FALSE   \n6   2020/07/21 Tue     鮭胡麻照り焼き弁当   500     TRUE    FALSE   FALSE  FALSE   \n7   2020/07/21 Tue         豚ネギ塩丼   350    FALSE     TRUE   FALSE  FALSE   \n8   2020/07/21 Tue  レモンペッパーチキン弁当   400    FALSE    FALSE   FALSE  FALSE   \n9   2020/07/21 Tue       酢豚＆焼売弁当   400    FALSE    FALSE   FALSE  FALSE   \n10  2020/07/21 Tue        ロコモコ弁当   450    FALSE    FALSE   FALSE  FALSE   \n11  2020/07/21 Tue    手作り醬油ザンギ弁当   500    FALSE    FALSE   FALSE   TRUE   \n12  2020/07/22 Wed       メンチカツ弁当   500    FALSE    FALSE   FALSE  FALSE   \n13  2020/07/22 Wed       ミニ幕の内弁当   350    FALSE    FALSE   FALSE  FALSE   \n14  2020/07/22 Wed   サバ竜田南蛮酢炒め弁当   400     TRUE     TRUE   FALSE  FALSE   \n15  2020/07/22 Wed       生姜焼き＆炒飯   400    FALSE    FALSE   FALSE  FALSE   \n16  2020/07/22 Wed   こだわりのトンテキ弁当   450    FALSE    FALSE   FALSE  FALSE   \n17  2020/07/22 Wed       二色の行楽弁当   500    FALSE    FALSE    TRUE   TRUE   \n18                                        FALSE    FALSE   FALSE  FALSE   \n19                                        FALSE    FALSE   FALSE  FALSE   \n20                                        FALSE    FALSE   FALSE  FALSE   \n21                                        FALSE    FALSE   FALSE  FALSE   \n22                                        FALSE    FALSE   FALSE  FALSE   \n23                                        FALSE    FALSE   FALSE  FALSE   \n24                                        FALSE    FALSE   FALSE  FALSE   \n25                                        FALSE    FALSE   FALSE  FALSE   \n26                                        FALSE    FALSE   FALSE  FALSE   \n27                                        FALSE    FALSE   FALSE  FALSE   \n28                                        FALSE    FALSE   FALSE  FALSE   \n29                                        FALSE    FALSE   FALSE  FALSE   \n30                                            3        3       2      3   \n\n   Uemura   Sato    Ito Total_Num Total_Price  \n0    TRUE   TRUE   TRUE         4        2000  \n1   FALSE  FALSE  FALSE         0           0  \n2   FALSE  FALSE  FALSE         1         400  \n3   FALSE  FALSE  FALSE         2         800  \n4   FALSE  FALSE  FALSE         0           0  \n5   FALSE  FALSE  FALSE         0           0  \n6   FALSE  FALSE  FALSE         1         500  \n7   FALSE  FALSE  FALSE         1         350  \n8   FALSE  FALSE  FALSE         0           0  \n9   FALSE   TRUE  FALSE         1         400  \n10  FALSE  FALSE  FALSE         0           0  \n11   TRUE  FALSE   TRUE         3        1500  \n12   TRUE  FALSE  FALSE         1         500  \n13  FALSE  FALSE  FALSE         0           0  \n14  FALSE  FALSE  FALSE         2         800  \n15  FALSE   TRUE  FALSE         1         400  \n16  FALSE  FALSE  FALSE         0           0  \n17  FALSE  FALSE   TRUE         3        1500  \n18  FALSE  FALSE  FALSE         0           0  \n19  FALSE  FALSE  FALSE         0           0  \n20  FALSE  FALSE  FALSE         0           0  \n21  FALSE  FALSE  FALSE         0           0  \n22  FALSE  FALSE  FALSE         0           0  \n23  FALSE  FALSE  FALSE         0           0  \n24  FALSE  FALSE  FALSE         0           0  \n25  FALSE  FALSE  FALSE         0           0  \n26  FALSE  FALSE  FALSE         0           0  \n27  FALSE  FALSE  FALSE         0           0  \n28  FALSE  FALSE  FALSE         0           0  \n29  FALSE  FALSE  FALSE         0           0  \n30      3      3      3        20        9150  ",
      "text/html": "<div>\n<style scoped>\n    .dataframe tbody tr th:only-of-type {\n        vertical-align: middle;\n    }\n\n    .dataframe tbody tr th {\n        vertical-align: top;\n    }\n\n    .dataframe thead th {\n        text-align: right;\n    }\n</style>\n<table border=\"1\" class=\"dataframe\">\n  <thead>\n    <tr style=\"text-align: right;\">\n      <th></th>\n      <th>Date</th>\n      <th>Menu</th>\n      <th>Price</th>\n      <th>Takeuchi</th>\n      <th>Koyanagi</th>\n      <th>Noumura</th>\n      <th>Saito</th>\n      <th>Uemura</th>\n      <th>Sato</th>\n      <th>Ito</th>\n      <th>Total_Num</th>\n      <th>Total_Price</th>\n    </tr>\n  </thead>\n  <tbody>\n    <tr>\n      <th>0</th>\n      <td>2020/07/20 Mon</td>\n      <td>青椒肉絲弁当</td>\n      <td>500</td>\n      <td>FALSE</td>\n      <td>FALSE</td>\n      <td>TRUE</td>\n      <td>FALSE</td>\n      <td>TRUE</td>\n      <td>TRUE</td>\n      <td>TRUE</td>\n      <td>4</td>\n      <td>2000</td>\n    </tr>\n    <tr>\n      <th>1</th>\n      <td>2020/07/20 Mon</td>\n      <td>おにぎりバスケット</td>\n      <td>350</td>\n      <td>FALSE</td>\n      <td>FALSE</td>\n      <td>FALSE</td>\n      <td>FALSE</td>\n      <td>FALSE</td>\n      <td>FALSE</td>\n      <td>FALSE</td>\n      <td>0</td>\n      <td>0</td>\n    </tr>\n    <tr>\n      <th>2</th>\n      <td>2020/07/20 Mon</td>\n      <td>焼きサバ弁当</td>\n      <td>400</td>\n      <td>TRUE</td>\n      <td>FALSE</td>\n      <td>FALSE</td>\n      <td>FALSE</td>\n      <td>FALSE</td>\n      <td>FALSE</td>\n      <td>FALSE</td>\n      <td>1</td>\n      <td>400</td>\n    </tr>\n    <tr>\n      <th>3</th>\n      <td>2020/07/20 Mon</td>\n      <td>豚山賊焼き＆ハムカツ弁当</td>\n      <td>400</td>\n      <td>FALSE</td>\n      <td>TRUE</td>\n      <td>FALSE</td>\n      <td>TRUE</td>\n      <td>FALSE</td>\n      <td>FALSE</td>\n      <td>FALSE</td>\n      <td>2</td>\n      <td>800</td>\n    </tr>\n    <tr>\n      <th>4</th>\n      <td>2020/07/20 Mon</td>\n      <td>牛佃煮弁当</td>\n      <td>450</td>\n      <td>FALSE</td>\n      <td>FALSE</td>\n      <td>FALSE</td>\n      <td>FALSE</td>\n      <td>FALSE</td>\n      <td>FALSE</td>\n      <td>FALSE</td>\n      <td>0</td>\n      <td>0</td>\n    </tr>\n    <tr>\n      <th>5</th>\n      <td>2020/07/20 Mon</td>\n      <td>チーズinハンバーグ弁当</td>\n      <td>500</td>\n      <td>FALSE</td>\n      <td>FALSE</td>\n      <td>FALSE</td>\n      <td>FALSE</td>\n      <td>FALSE</td>\n      <td>FALSE</td>\n      <td>FALSE</td>\n      <td>0</td>\n      <td>0</td>\n    </tr>\n    <tr>\n      <th>6</th>\n      <td>2020/07/21 Tue</td>\n      <td>鮭胡麻照り焼き弁当</td>\n      <td>500</td>\n      <td>TRUE</td>\n      <td>FALSE</td>\n      <td>FALSE</td>\n      <td>FALSE</td>\n      <td>FALSE</td>\n      <td>FALSE</td>\n      <td>FALSE</td>\n      <td>1</td>\n      <td>500</td>\n    </tr>\n    <tr>\n      <th>7</th>\n      <td>2020/07/21 Tue</td>\n      <td>豚ネギ塩丼</td>\n      <td>350</td>\n      <td>FALSE</td>\n      <td>TRUE</td>\n      <td>FALSE</td>\n      <td>FALSE</td>\n      <td>FALSE</td>\n      <td>FALSE</td>\n      <td>FALSE</td>\n      <td>1</td>\n      <td>350</td>\n    </tr>\n    <tr>\n      <th>8</th>\n      <td>2020/07/21 Tue</td>\n      <td>レモンペッパーチキン弁当</td>\n      <td>400</td>\n      <td>FALSE</td>\n      <td>FALSE</td>\n      <td>FALSE</td>\n      <td>FALSE</td>\n      <td>FALSE</td>\n      <td>FALSE</td>\n      <td>FALSE</td>\n      <td>0</td>\n      <td>0</td>\n    </tr>\n    <tr>\n      <th>9</th>\n      <td>2020/07/21 Tue</td>\n      <td>酢豚＆焼売弁当</td>\n      <td>400</td>\n      <td>FALSE</td>\n      <td>FALSE</td>\n      <td>FALSE</td>\n      <td>FALSE</td>\n      <td>FALSE</td>\n      <td>TRUE</td>\n      <td>FALSE</td>\n      <td>1</td>\n      <td>400</td>\n    </tr>\n    <tr>\n      <th>10</th>\n      <td>2020/07/21 Tue</td>\n      <td>ロコモコ弁当</td>\n      <td>450</td>\n      <td>FALSE</td>\n      <td>FALSE</td>\n      <td>FALSE</td>\n      <td>FALSE</td>\n      <td>FALSE</td>\n      <td>FALSE</td>\n      <td>FALSE</td>\n      <td>0</td>\n      <td>0</td>\n    </tr>\n    <tr>\n      <th>11</th>\n      <td>2020/07/21 Tue</td>\n      <td>手作り醬油ザンギ弁当</td>\n      <td>500</td>\n      <td>FALSE</td>\n      <td>FALSE</td>\n      <td>FALSE</td>\n      <td>TRUE</td>\n      <td>TRUE</td>\n      <td>FALSE</td>\n      <td>TRUE</td>\n      <td>3</td>\n      <td>1500</td>\n    </tr>\n    <tr>\n      <th>12</th>\n      <td>2020/07/22 Wed</td>\n      <td>メンチカツ弁当</td>\n      <td>500</td>\n      <td>FALSE</td>\n      <td>FALSE</td>\n      <td>FALSE</td>\n      <td>FALSE</td>\n      <td>TRUE</td>\n      <td>FALSE</td>\n      <td>FALSE</td>\n      <td>1</td>\n      <td>500</td>\n    </tr>\n    <tr>\n      <th>13</th>\n      <td>2020/07/22 Wed</td>\n      <td>ミニ幕の内弁当</td>\n      <td>350</td>\n      <td>FALSE</td>\n      <td>FALSE</td>\n      <td>FALSE</td>\n      <td>FALSE</td>\n      <td>FALSE</td>\n      <td>FALSE</td>\n      <td>FALSE</td>\n      <td>0</td>\n      <td>0</td>\n    </tr>\n    <tr>\n      <th>14</th>\n      <td>2020/07/22 Wed</td>\n      <td>サバ竜田南蛮酢炒め弁当</td>\n      <td>400</td>\n      <td>TRUE</td>\n      <td>TRUE</td>\n      <td>FALSE</td>\n      <td>FALSE</td>\n      <td>FALSE</td>\n      <td>FALSE</td>\n      <td>FALSE</td>\n      <td>2</td>\n      <td>800</td>\n    </tr>\n    <tr>\n      <th>15</th>\n      <td>2020/07/22 Wed</td>\n      <td>生姜焼き＆炒飯</td>\n      <td>400</td>\n      <td>FALSE</td>\n      <td>FALSE</td>\n      <td>FALSE</td>\n      <td>FALSE</td>\n      <td>FALSE</td>\n      <td>TRUE</td>\n      <td>FALSE</td>\n      <td>1</td>\n      <td>400</td>\n    </tr>\n    <tr>\n      <th>16</th>\n      <td>2020/07/22 Wed</td>\n      <td>こだわりのトンテキ弁当</td>\n      <td>450</td>\n      <td>FALSE</td>\n      <td>FALSE</td>\n      <td>FALSE</td>\n      <td>FALSE</td>\n      <td>FALSE</td>\n      <td>FALSE</td>\n      <td>FALSE</td>\n      <td>0</td>\n      <td>0</td>\n    </tr>\n    <tr>\n      <th>17</th>\n      <td>2020/07/22 Wed</td>\n      <td>二色の行楽弁当</td>\n      <td>500</td>\n      <td>FALSE</td>\n      <td>FALSE</td>\n      <td>TRUE</td>\n      <td>TRUE</td>\n      <td>FALSE</td>\n      <td>FALSE</td>\n      <td>TRUE</td>\n      <td>3</td>\n      <td>1500</td>\n    </tr>\n    <tr>\n      <th>18</th>\n      <td></td>\n      <td></td>\n      <td></td>\n      <td>FALSE</td>\n      <td>FALSE</td>\n      <td>FALSE</td>\n      <td>FALSE</td>\n      <td>FALSE</td>\n      <td>FALSE</td>\n      <td>FALSE</td>\n      <td>0</td>\n      <td>0</td>\n    </tr>\n    <tr>\n      <th>19</th>\n      <td></td>\n      <td></td>\n      <td></td>\n      <td>FALSE</td>\n      <td>FALSE</td>\n      <td>FALSE</td>\n      <td>FALSE</td>\n      <td>FALSE</td>\n      <td>FALSE</td>\n      <td>FALSE</td>\n      <td>0</td>\n      <td>0</td>\n    </tr>\n    <tr>\n      <th>20</th>\n      <td></td>\n      <td></td>\n      <td></td>\n      <td>FALSE</td>\n      <td>FALSE</td>\n      <td>FALSE</td>\n      <td>FALSE</td>\n      <td>FALSE</td>\n      <td>FALSE</td>\n      <td>FALSE</td>\n      <td>0</td>\n      <td>0</td>\n    </tr>\n    <tr>\n      <th>21</th>\n      <td></td>\n      <td></td>\n      <td></td>\n      <td>FALSE</td>\n      <td>FALSE</td>\n      <td>FALSE</td>\n      <td>FALSE</td>\n      <td>FALSE</td>\n      <td>FALSE</td>\n      <td>FALSE</td>\n      <td>0</td>\n      <td>0</td>\n    </tr>\n    <tr>\n      <th>22</th>\n      <td></td>\n      <td></td>\n      <td></td>\n      <td>FALSE</td>\n      <td>FALSE</td>\n      <td>FALSE</td>\n      <td>FALSE</td>\n      <td>FALSE</td>\n      <td>FALSE</td>\n      <td>FALSE</td>\n      <td>0</td>\n      <td>0</td>\n    </tr>\n    <tr>\n      <th>23</th>\n      <td></td>\n      <td></td>\n      <td></td>\n      <td>FALSE</td>\n      <td>FALSE</td>\n      <td>FALSE</td>\n      <td>FALSE</td>\n      <td>FALSE</td>\n      <td>FALSE</td>\n      <td>FALSE</td>\n      <td>0</td>\n      <td>0</td>\n    </tr>\n    <tr>\n      <th>24</th>\n      <td></td>\n      <td></td>\n      <td></td>\n      <td>FALSE</td>\n      <td>FALSE</td>\n      <td>FALSE</td>\n      <td>FALSE</td>\n      <td>FALSE</td>\n      <td>FALSE</td>\n      <td>FALSE</td>\n      <td>0</td>\n      <td>0</td>\n    </tr>\n    <tr>\n      <th>25</th>\n      <td></td>\n      <td></td>\n      <td></td>\n      <td>FALSE</td>\n      <td>FALSE</td>\n      <td>FALSE</td>\n      <td>FALSE</td>\n      <td>FALSE</td>\n      <td>FALSE</td>\n      <td>FALSE</td>\n      <td>0</td>\n      <td>0</td>\n    </tr>\n    <tr>\n      <th>26</th>\n      <td></td>\n      <td></td>\n      <td></td>\n      <td>FALSE</td>\n      <td>FALSE</td>\n      <td>FALSE</td>\n      <td>FALSE</td>\n      <td>FALSE</td>\n      <td>FALSE</td>\n      <td>FALSE</td>\n      <td>0</td>\n      <td>0</td>\n    </tr>\n    <tr>\n      <th>27</th>\n      <td></td>\n      <td></td>\n      <td></td>\n      <td>FALSE</td>\n      <td>FALSE</td>\n      <td>FALSE</td>\n      <td>FALSE</td>\n      <td>FALSE</td>\n      <td>FALSE</td>\n      <td>FALSE</td>\n      <td>0</td>\n      <td>0</td>\n    </tr>\n    <tr>\n      <th>28</th>\n      <td></td>\n      <td></td>\n      <td></td>\n      <td>FALSE</td>\n      <td>FALSE</td>\n      <td>FALSE</td>\n      <td>FALSE</td>\n      <td>FALSE</td>\n      <td>FALSE</td>\n      <td>FALSE</td>\n      <td>0</td>\n      <td>0</td>\n    </tr>\n    <tr>\n      <th>29</th>\n      <td></td>\n      <td></td>\n      <td></td>\n      <td>FALSE</td>\n      <td>FALSE</td>\n      <td>FALSE</td>\n      <td>FALSE</td>\n      <td>FALSE</td>\n      <td>FALSE</td>\n      <td>FALSE</td>\n      <td>0</td>\n      <td>0</td>\n    </tr>\n    <tr>\n      <th>30</th>\n      <td></td>\n      <td></td>\n      <td></td>\n      <td>3</td>\n      <td>3</td>\n      <td>2</td>\n      <td>3</td>\n      <td>3</td>\n      <td>3</td>\n      <td>3</td>\n      <td>20</td>\n      <td>9150</td>\n    </tr>\n  </tbody>\n</table>\n</div>"
     },
     "metadata": {},
     "execution_count": 33
    }
   ],
   "source": [
    "# Menu Worksheet of shokuraku spreadsheet\n",
    "skrk_worksheet = skrk.get_worksheet(worksheet_name = 'Glide UI')\n",
    "\n",
    "# Get the data from Menu Worksheet\n",
    "skrk_df_order_list = skrk.get_dataframe(skrk_worksheet)\n",
    "\n",
    "skrk_df_order_list"
   ]
  },
  {
   "cell_type": "markdown",
   "metadata": {},
   "source": [
    "直近のOrder Listをdatabaseに保存するために整形"
   ]
  },
  {
   "cell_type": "code",
   "execution_count": 7,
   "metadata": {},
   "outputs": [
    {
     "output_type": "execute_result",
     "data": {
      "text/plain": "         Date      Name         Menu Price  Count\n15 2020-07-22   Noumura      二色の行楽弁当   500      1\n16 2020-07-22     Saito      二色の行楽弁当   500      1\n17 2020-07-22      Sato      生姜焼き＆炒飯   400      1\n18 2020-07-22  Takeuchi  サバ竜田南蛮酢炒め弁当   400      1\n19 2020-07-22    Uemura      メンチカツ弁当   500      1",
      "text/html": "<div>\n<style scoped>\n    .dataframe tbody tr th:only-of-type {\n        vertical-align: middle;\n    }\n\n    .dataframe tbody tr th {\n        vertical-align: top;\n    }\n\n    .dataframe thead th {\n        text-align: right;\n    }\n</style>\n<table border=\"1\" class=\"dataframe\">\n  <thead>\n    <tr style=\"text-align: right;\">\n      <th></th>\n      <th>Date</th>\n      <th>Name</th>\n      <th>Menu</th>\n      <th>Price</th>\n      <th>Count</th>\n    </tr>\n  </thead>\n  <tbody>\n    <tr>\n      <th>15</th>\n      <td>2020-07-22</td>\n      <td>Noumura</td>\n      <td>二色の行楽弁当</td>\n      <td>500</td>\n      <td>1</td>\n    </tr>\n    <tr>\n      <th>16</th>\n      <td>2020-07-22</td>\n      <td>Saito</td>\n      <td>二色の行楽弁当</td>\n      <td>500</td>\n      <td>1</td>\n    </tr>\n    <tr>\n      <th>17</th>\n      <td>2020-07-22</td>\n      <td>Sato</td>\n      <td>生姜焼き＆炒飯</td>\n      <td>400</td>\n      <td>1</td>\n    </tr>\n    <tr>\n      <th>18</th>\n      <td>2020-07-22</td>\n      <td>Takeuchi</td>\n      <td>サバ竜田南蛮酢炒め弁当</td>\n      <td>400</td>\n      <td>1</td>\n    </tr>\n    <tr>\n      <th>19</th>\n      <td>2020-07-22</td>\n      <td>Uemura</td>\n      <td>メンチカツ弁当</td>\n      <td>500</td>\n      <td>1</td>\n    </tr>\n  </tbody>\n</table>\n</div>"
     },
     "metadata": {},
     "execution_count": 7
    }
   ],
   "source": [
    "skrk_df_latest = skrk.convert_order_list_to_database(skrk_df_order_list)\n",
    "\n",
    "skrk_df_latest.tail()"
   ]
  },
  {
   "cell_type": "markdown",
   "metadata": {},
   "source": [
    "## database\n",
    "databaseのデータを取得しデータフレームに変換"
   ]
  },
  {
   "cell_type": "code",
   "execution_count": 3,
   "metadata": {},
   "outputs": [
    {
     "output_type": "execute_result",
     "data": {
      "text/plain": "          Date      Name                 Menu Price Count\n0   2020-06-16   Noumura              生姜焼き＆炒飯   400     1\n1   2020-06-17       Ito           おろしハンバーグ弁当   500     1\n2   2020-06-17  Koyanagi           おろしハンバーグ弁当   500     1\n3   2020-06-17     Saito           おろしハンバーグ弁当   500     1\n4   2020-06-17      Sato           おろしハンバーグ弁当   500     1\n5   2020-06-17  Takeuchi           おろしハンバーグ弁当   500     1\n6   2020-06-19       Ito            ポークチャップ弁当   500     1\n7   2020-06-19  Koyanagi            ポークチャップ弁当   500     1\n8   2020-06-19     Saito            ポークチャップ弁当   500     1\n9   2020-06-19      Sato            ポークチャップ弁当   500     1\n10  2020-06-19  Takeuchi            ポークチャップ弁当   500     1\n11  2020-06-22  Koyanagi               青椒肉絲弁当   500     1\n12  2020-06-22     Saito               青椒肉絲弁当   500     1\n13  2020-06-22      Sato               青椒肉絲弁当   500     1\n14  2020-06-22  Takeuchi               青椒肉絲弁当   500     1\n15  2020-06-23  Koyanagi            鮭胡麻照り焼き弁当   500     1\n16  2020-06-23    Uemura            鮭胡麻照り焼き弁当   500     1\n17  2020-06-24  Koyanagi              メンチカツ弁当   500     1\n18  2020-06-24    Uemura              メンチカツ弁当   500     1\n19  2020-06-25    Uemura              チキン南蛮弁当   500     1\n20  2020-06-26    Uemura              豚山賊焼き弁当   500     1\n21  2020-06-29       Ito               麻婆茄子弁当   500     1\n22  2020-06-29  Koyanagi               麻婆茄子弁当   500     1\n23  2020-06-29     Saito               麻婆茄子弁当   500     1\n24  2020-06-29      Sato               麻婆茄子弁当   500     1\n25  2020-06-29  Takeuchi               麻婆茄子弁当   500     1\n26  2020-06-29    Uemura               麻婆茄子弁当   500     1\n27  2020-06-30       Ito               サバ塩麹弁当   500     1\n28  2020-06-30  Koyanagi               サバ塩麹弁当   500     1\n29  2020-06-30      Sato               サバ塩麹弁当   500     1\n..         ...       ...                  ...   ...   ...\n82  2020-07-13   Noumura                回鍋肉弁当   500     1\n83  2020-07-13     Saito            唐揚げエビチリ弁当   400     1\n84  2020-07-13      Sato                回鍋肉弁当   500     1\n85  2020-07-13  Takeuchi  メルルーサのパセリバターオイル焼き弁当   400     1\n86  2020-07-13    Uemura                回鍋肉弁当   500     1\n87  2020-07-14       Ito              二色の行楽弁当   500     1\n88  2020-07-14  Koyanagi                 鶏中華丼   350     1\n89  2020-07-14     Saito              二色の行楽弁当   500     1\n90  2020-07-14      Sato              塩だれ焼肉弁当   400     1\n91  2020-07-14  Takeuchi          サバのマリネのっけ弁当   500     1\n92  2020-07-14    Uemura              二色の行楽弁当   500     1\n93  2020-07-15       Ito                幕の内弁当   500     1\n94  2020-07-15  Koyanagi             アジの塩焼き弁当   400     1\n95  2020-07-15     Saito                幕の内弁当   500     1\n96  2020-07-15      Sato            柚子胡椒チキン弁当   400     1\n97  2020-07-15  Takeuchi             アジの塩焼き弁当   400     1\n98  2020-07-15    Uemura           おろしハンバーグ弁当   500     1\n99  2020-07-16       Ito                 洋風弁当   500     1\n100 2020-07-16  Koyanagi                 三色弁当   350     1\n101 2020-07-16   Noumura              チキンカツ弁当   500     1\n102 2020-07-16     Saito                 洋風弁当   500     1\n103 2020-07-16      Sato                 三色弁当   350     1\n104 2020-07-16  Takeuchi              チキンカツ弁当   500     1\n105 2020-07-16    Uemura                 洋風弁当   500     1\n106 2020-07-17       Ito                俺の担々麺   450     1\n107 2020-07-17  Koyanagi          焼き鮭ミートボール弁当   400     1\n108 2020-07-17   Noumura            ポークチャップ弁当   500     1\n109 2020-07-17      Sato          生姜焼きメンチカツ弁当   400     1\n110 2020-07-17  Takeuchi          焼き鮭ミートボール弁当   400     1\n111 2020-07-17    Uemura                 和風弁当   500     1\n\n[112 rows x 5 columns]",
      "text/html": "<div>\n<style scoped>\n    .dataframe tbody tr th:only-of-type {\n        vertical-align: middle;\n    }\n\n    .dataframe tbody tr th {\n        vertical-align: top;\n    }\n\n    .dataframe thead th {\n        text-align: right;\n    }\n</style>\n<table border=\"1\" class=\"dataframe\">\n  <thead>\n    <tr style=\"text-align: right;\">\n      <th></th>\n      <th>Date</th>\n      <th>Name</th>\n      <th>Menu</th>\n      <th>Price</th>\n      <th>Count</th>\n    </tr>\n  </thead>\n  <tbody>\n    <tr>\n      <th>0</th>\n      <td>2020-06-16</td>\n      <td>Noumura</td>\n      <td>生姜焼き＆炒飯</td>\n      <td>400</td>\n      <td>1</td>\n    </tr>\n    <tr>\n      <th>1</th>\n      <td>2020-06-17</td>\n      <td>Ito</td>\n      <td>おろしハンバーグ弁当</td>\n      <td>500</td>\n      <td>1</td>\n    </tr>\n    <tr>\n      <th>2</th>\n      <td>2020-06-17</td>\n      <td>Koyanagi</td>\n      <td>おろしハンバーグ弁当</td>\n      <td>500</td>\n      <td>1</td>\n    </tr>\n    <tr>\n      <th>3</th>\n      <td>2020-06-17</td>\n      <td>Saito</td>\n      <td>おろしハンバーグ弁当</td>\n      <td>500</td>\n      <td>1</td>\n    </tr>\n    <tr>\n      <th>4</th>\n      <td>2020-06-17</td>\n      <td>Sato</td>\n      <td>おろしハンバーグ弁当</td>\n      <td>500</td>\n      <td>1</td>\n    </tr>\n    <tr>\n      <th>5</th>\n      <td>2020-06-17</td>\n      <td>Takeuchi</td>\n      <td>おろしハンバーグ弁当</td>\n      <td>500</td>\n      <td>1</td>\n    </tr>\n    <tr>\n      <th>6</th>\n      <td>2020-06-19</td>\n      <td>Ito</td>\n      <td>ポークチャップ弁当</td>\n      <td>500</td>\n      <td>1</td>\n    </tr>\n    <tr>\n      <th>7</th>\n      <td>2020-06-19</td>\n      <td>Koyanagi</td>\n      <td>ポークチャップ弁当</td>\n      <td>500</td>\n      <td>1</td>\n    </tr>\n    <tr>\n      <th>8</th>\n      <td>2020-06-19</td>\n      <td>Saito</td>\n      <td>ポークチャップ弁当</td>\n      <td>500</td>\n      <td>1</td>\n    </tr>\n    <tr>\n      <th>9</th>\n      <td>2020-06-19</td>\n      <td>Sato</td>\n      <td>ポークチャップ弁当</td>\n      <td>500</td>\n      <td>1</td>\n    </tr>\n    <tr>\n      <th>10</th>\n      <td>2020-06-19</td>\n      <td>Takeuchi</td>\n      <td>ポークチャップ弁当</td>\n      <td>500</td>\n      <td>1</td>\n    </tr>\n    <tr>\n      <th>11</th>\n      <td>2020-06-22</td>\n      <td>Koyanagi</td>\n      <td>青椒肉絲弁当</td>\n      <td>500</td>\n      <td>1</td>\n    </tr>\n    <tr>\n      <th>12</th>\n      <td>2020-06-22</td>\n      <td>Saito</td>\n      <td>青椒肉絲弁当</td>\n      <td>500</td>\n      <td>1</td>\n    </tr>\n    <tr>\n      <th>13</th>\n      <td>2020-06-22</td>\n      <td>Sato</td>\n      <td>青椒肉絲弁当</td>\n      <td>500</td>\n      <td>1</td>\n    </tr>\n    <tr>\n      <th>14</th>\n      <td>2020-06-22</td>\n      <td>Takeuchi</td>\n      <td>青椒肉絲弁当</td>\n      <td>500</td>\n      <td>1</td>\n    </tr>\n    <tr>\n      <th>15</th>\n      <td>2020-06-23</td>\n      <td>Koyanagi</td>\n      <td>鮭胡麻照り焼き弁当</td>\n      <td>500</td>\n      <td>1</td>\n    </tr>\n    <tr>\n      <th>16</th>\n      <td>2020-06-23</td>\n      <td>Uemura</td>\n      <td>鮭胡麻照り焼き弁当</td>\n      <td>500</td>\n      <td>1</td>\n    </tr>\n    <tr>\n      <th>17</th>\n      <td>2020-06-24</td>\n      <td>Koyanagi</td>\n      <td>メンチカツ弁当</td>\n      <td>500</td>\n      <td>1</td>\n    </tr>\n    <tr>\n      <th>18</th>\n      <td>2020-06-24</td>\n      <td>Uemura</td>\n      <td>メンチカツ弁当</td>\n      <td>500</td>\n      <td>1</td>\n    </tr>\n    <tr>\n      <th>19</th>\n      <td>2020-06-25</td>\n      <td>Uemura</td>\n      <td>チキン南蛮弁当</td>\n      <td>500</td>\n      <td>1</td>\n    </tr>\n    <tr>\n      <th>20</th>\n      <td>2020-06-26</td>\n      <td>Uemura</td>\n      <td>豚山賊焼き弁当</td>\n      <td>500</td>\n      <td>1</td>\n    </tr>\n    <tr>\n      <th>21</th>\n      <td>2020-06-29</td>\n      <td>Ito</td>\n      <td>麻婆茄子弁当</td>\n      <td>500</td>\n      <td>1</td>\n    </tr>\n    <tr>\n      <th>22</th>\n      <td>2020-06-29</td>\n      <td>Koyanagi</td>\n      <td>麻婆茄子弁当</td>\n      <td>500</td>\n      <td>1</td>\n    </tr>\n    <tr>\n      <th>23</th>\n      <td>2020-06-29</td>\n      <td>Saito</td>\n      <td>麻婆茄子弁当</td>\n      <td>500</td>\n      <td>1</td>\n    </tr>\n    <tr>\n      <th>24</th>\n      <td>2020-06-29</td>\n      <td>Sato</td>\n      <td>麻婆茄子弁当</td>\n      <td>500</td>\n      <td>1</td>\n    </tr>\n    <tr>\n      <th>25</th>\n      <td>2020-06-29</td>\n      <td>Takeuchi</td>\n      <td>麻婆茄子弁当</td>\n      <td>500</td>\n      <td>1</td>\n    </tr>\n    <tr>\n      <th>26</th>\n      <td>2020-06-29</td>\n      <td>Uemura</td>\n      <td>麻婆茄子弁当</td>\n      <td>500</td>\n      <td>1</td>\n    </tr>\n    <tr>\n      <th>27</th>\n      <td>2020-06-30</td>\n      <td>Ito</td>\n      <td>サバ塩麹弁当</td>\n      <td>500</td>\n      <td>1</td>\n    </tr>\n    <tr>\n      <th>28</th>\n      <td>2020-06-30</td>\n      <td>Koyanagi</td>\n      <td>サバ塩麹弁当</td>\n      <td>500</td>\n      <td>1</td>\n    </tr>\n    <tr>\n      <th>29</th>\n      <td>2020-06-30</td>\n      <td>Sato</td>\n      <td>サバ塩麹弁当</td>\n      <td>500</td>\n      <td>1</td>\n    </tr>\n    <tr>\n      <th>...</th>\n      <td>...</td>\n      <td>...</td>\n      <td>...</td>\n      <td>...</td>\n      <td>...</td>\n    </tr>\n    <tr>\n      <th>82</th>\n      <td>2020-07-13</td>\n      <td>Noumura</td>\n      <td>回鍋肉弁当</td>\n      <td>500</td>\n      <td>1</td>\n    </tr>\n    <tr>\n      <th>83</th>\n      <td>2020-07-13</td>\n      <td>Saito</td>\n      <td>唐揚げエビチリ弁当</td>\n      <td>400</td>\n      <td>1</td>\n    </tr>\n    <tr>\n      <th>84</th>\n      <td>2020-07-13</td>\n      <td>Sato</td>\n      <td>回鍋肉弁当</td>\n      <td>500</td>\n      <td>1</td>\n    </tr>\n    <tr>\n      <th>85</th>\n      <td>2020-07-13</td>\n      <td>Takeuchi</td>\n      <td>メルルーサのパセリバターオイル焼き弁当</td>\n      <td>400</td>\n      <td>1</td>\n    </tr>\n    <tr>\n      <th>86</th>\n      <td>2020-07-13</td>\n      <td>Uemura</td>\n      <td>回鍋肉弁当</td>\n      <td>500</td>\n      <td>1</td>\n    </tr>\n    <tr>\n      <th>87</th>\n      <td>2020-07-14</td>\n      <td>Ito</td>\n      <td>二色の行楽弁当</td>\n      <td>500</td>\n      <td>1</td>\n    </tr>\n    <tr>\n      <th>88</th>\n      <td>2020-07-14</td>\n      <td>Koyanagi</td>\n      <td>鶏中華丼</td>\n      <td>350</td>\n      <td>1</td>\n    </tr>\n    <tr>\n      <th>89</th>\n      <td>2020-07-14</td>\n      <td>Saito</td>\n      <td>二色の行楽弁当</td>\n      <td>500</td>\n      <td>1</td>\n    </tr>\n    <tr>\n      <th>90</th>\n      <td>2020-07-14</td>\n      <td>Sato</td>\n      <td>塩だれ焼肉弁当</td>\n      <td>400</td>\n      <td>1</td>\n    </tr>\n    <tr>\n      <th>91</th>\n      <td>2020-07-14</td>\n      <td>Takeuchi</td>\n      <td>サバのマリネのっけ弁当</td>\n      <td>500</td>\n      <td>1</td>\n    </tr>\n    <tr>\n      <th>92</th>\n      <td>2020-07-14</td>\n      <td>Uemura</td>\n      <td>二色の行楽弁当</td>\n      <td>500</td>\n      <td>1</td>\n    </tr>\n    <tr>\n      <th>93</th>\n      <td>2020-07-15</td>\n      <td>Ito</td>\n      <td>幕の内弁当</td>\n      <td>500</td>\n      <td>1</td>\n    </tr>\n    <tr>\n      <th>94</th>\n      <td>2020-07-15</td>\n      <td>Koyanagi</td>\n      <td>アジの塩焼き弁当</td>\n      <td>400</td>\n      <td>1</td>\n    </tr>\n    <tr>\n      <th>95</th>\n      <td>2020-07-15</td>\n      <td>Saito</td>\n      <td>幕の内弁当</td>\n      <td>500</td>\n      <td>1</td>\n    </tr>\n    <tr>\n      <th>96</th>\n      <td>2020-07-15</td>\n      <td>Sato</td>\n      <td>柚子胡椒チキン弁当</td>\n      <td>400</td>\n      <td>1</td>\n    </tr>\n    <tr>\n      <th>97</th>\n      <td>2020-07-15</td>\n      <td>Takeuchi</td>\n      <td>アジの塩焼き弁当</td>\n      <td>400</td>\n      <td>1</td>\n    </tr>\n    <tr>\n      <th>98</th>\n      <td>2020-07-15</td>\n      <td>Uemura</td>\n      <td>おろしハンバーグ弁当</td>\n      <td>500</td>\n      <td>1</td>\n    </tr>\n    <tr>\n      <th>99</th>\n      <td>2020-07-16</td>\n      <td>Ito</td>\n      <td>洋風弁当</td>\n      <td>500</td>\n      <td>1</td>\n    </tr>\n    <tr>\n      <th>100</th>\n      <td>2020-07-16</td>\n      <td>Koyanagi</td>\n      <td>三色弁当</td>\n      <td>350</td>\n      <td>1</td>\n    </tr>\n    <tr>\n      <th>101</th>\n      <td>2020-07-16</td>\n      <td>Noumura</td>\n      <td>チキンカツ弁当</td>\n      <td>500</td>\n      <td>1</td>\n    </tr>\n    <tr>\n      <th>102</th>\n      <td>2020-07-16</td>\n      <td>Saito</td>\n      <td>洋風弁当</td>\n      <td>500</td>\n      <td>1</td>\n    </tr>\n    <tr>\n      <th>103</th>\n      <td>2020-07-16</td>\n      <td>Sato</td>\n      <td>三色弁当</td>\n      <td>350</td>\n      <td>1</td>\n    </tr>\n    <tr>\n      <th>104</th>\n      <td>2020-07-16</td>\n      <td>Takeuchi</td>\n      <td>チキンカツ弁当</td>\n      <td>500</td>\n      <td>1</td>\n    </tr>\n    <tr>\n      <th>105</th>\n      <td>2020-07-16</td>\n      <td>Uemura</td>\n      <td>洋風弁当</td>\n      <td>500</td>\n      <td>1</td>\n    </tr>\n    <tr>\n      <th>106</th>\n      <td>2020-07-17</td>\n      <td>Ito</td>\n      <td>俺の担々麺</td>\n      <td>450</td>\n      <td>1</td>\n    </tr>\n    <tr>\n      <th>107</th>\n      <td>2020-07-17</td>\n      <td>Koyanagi</td>\n      <td>焼き鮭ミートボール弁当</td>\n      <td>400</td>\n      <td>1</td>\n    </tr>\n    <tr>\n      <th>108</th>\n      <td>2020-07-17</td>\n      <td>Noumura</td>\n      <td>ポークチャップ弁当</td>\n      <td>500</td>\n      <td>1</td>\n    </tr>\n    <tr>\n      <th>109</th>\n      <td>2020-07-17</td>\n      <td>Sato</td>\n      <td>生姜焼きメンチカツ弁当</td>\n      <td>400</td>\n      <td>1</td>\n    </tr>\n    <tr>\n      <th>110</th>\n      <td>2020-07-17</td>\n      <td>Takeuchi</td>\n      <td>焼き鮭ミートボール弁当</td>\n      <td>400</td>\n      <td>1</td>\n    </tr>\n    <tr>\n      <th>111</th>\n      <td>2020-07-17</td>\n      <td>Uemura</td>\n      <td>和風弁当</td>\n      <td>500</td>\n      <td>1</td>\n    </tr>\n  </tbody>\n</table>\n<p>112 rows × 5 columns</p>\n</div>"
     },
     "metadata": {},
     "execution_count": 3
    }
   ],
   "source": [
    "# Summary Worksheet of database spreadsheet\n",
    "db_worksheet = db.get_worksheet(worksheet_name = 'Summary')\n",
    "\n",
    "# Get the data from Summary Worksheet\n",
    "db_df = db.get_dataframe(db_worksheet)\n",
    "db_df['Date'] = pd.to_datetime(db_df['Date'])\n",
    "\n",
    "db_df"
   ]
  },
  {
   "cell_type": "markdown",
   "metadata": {},
   "source": [
    "databaseのspreadsheetに直近のOrderListをアップデート"
   ]
  },
  {
   "cell_type": "code",
   "execution_count": 9,
   "metadata": {},
   "outputs": [
    {
     "output_type": "execute_result",
     "data": {
      "text/plain": "{'spreadsheetId': '1_3qYu-kGAw0vwlXcm1cQ72fe-MHPyNV8JDbkBBzDmH4',\n 'updatedRange': 'Summary!A114:E133',\n 'updatedRows': 20,\n 'updatedColumns': 5,\n 'updatedCells': 100}"
     },
     "metadata": {},
     "execution_count": 9
    }
   ],
   "source": [
    "START_CELL = 'A' + str(len(db_df) + 2)\n",
    "db_df_update = skrk_df_latest.copy()\n",
    "db_df_update['Date'] = db_df_update['Date'].dt.strftime('%Y/%m/%d')\n",
    "db_worksheet.update(START_CELL, db_df_update.values.tolist())"
   ]
  },
  {
   "cell_type": "markdown",
   "metadata": {},
   "source": [
    "## shokuraku\n",
    "shokurakuのエクセルからMenuを抽出"
   ]
  },
  {
   "cell_type": "code",
   "execution_count": 44,
   "metadata": {
    "tags": []
   },
   "outputs": [
    {
     "output_type": "execute_result",
     "data": {
      "text/plain": "          Date                 Menu  Price\n1   2020-08-03              チリザンギ弁当  500.0\n1   2020-08-03              ミニ幕の内弁当  350.0\n1   2020-08-03               焼きサバ弁当  400.0\n1   2020-08-03          豚ネギ塩白身フライ弁当  400.0\n1   2020-08-03               ロコモコ弁当  450.0\n1   2020-08-03         チーズinハンバーグ弁当  500.0\n2   2020-08-04           タラのバジル焼き弁当  500.0\n2   2020-08-04               牛ビビンバ丼  350.0\n2   2020-08-04         レモンペッパーチキン弁当  400.0\n2   2020-08-04                 のり弁当  400.0\n2   2020-08-04              ジャージャー麺  450.0\n2   2020-08-04           手作り醬油ザンギ弁当  500.0\n3   2020-08-05                牛焼肉弁当  500.0\n3   2020-08-05                 鶏中華丼  350.0\n3   2020-08-05         和風おろしハンバーグ弁当  400.0\n3   2020-08-05  メルルーサのパセリバターオイル焼き弁当  400.0\n3   2020-08-05          こだわりのトンテキ弁当  450.0\n3   2020-08-05              二色の行楽弁当  500.0\n4   2020-08-06            照り焼きチキン弁当  500.0\n4   2020-08-06                 豚麻婆丼  350.0\n4   2020-08-06          イカフライ豚ネギ塩弁当  400.0\n4   2020-08-06          焼き鮭ミートボール弁当  400.0\n4   2020-08-06              牛プルコギ弁当  450.0\n4   2020-08-06                 洋風弁当  500.0\n5   2020-08-07              豚山賊焼き弁当  500.0\n5   2020-08-07            おにぎりバスケット  350.0\n5   2020-08-07          タルタル唐揚げ南蛮弁当  400.0\n5   2020-08-07             回鍋肉＆焼売弁当  400.0\n5   2020-08-07         こだわりつくねバーグ弁当  450.0\n5   2020-08-07                幕の内弁当  500.0\n..         ...                  ...    ...\n1   2020-08-31              チリザンギ弁当  500.0\n1   2020-08-31              ミニ幕の内弁当  350.0\n1   2020-08-31               焼きサバ弁当  400.0\n1   2020-08-31          豚ネギ塩白身フライ弁当  400.0\n1   2020-08-31               ロコモコ弁当  450.0\n1   2020-08-31         チーズinハンバーグ弁当  500.0\n2   2020-09-01           タラのバジル焼き弁当  500.0\n2   2020-09-01               牛ビビンバ丼  350.0\n2   2020-09-01         レモンペッパーチキン弁当  400.0\n2   2020-09-01                 のり弁当  400.0\n2   2020-09-01              ジャージャー麺  450.0\n2   2020-09-01           手作り醬油ザンギ弁当  500.0\n3   2020-09-02                牛焼肉弁当  500.0\n3   2020-09-02                 鶏中華丼  350.0\n3   2020-09-02         和風おろしハンバーグ弁当  400.0\n3   2020-09-02  メルルーサのパセリバターオイル焼き弁当  400.0\n3   2020-09-02          こだわりのトンテキ弁当  450.0\n3   2020-09-02              二色の行楽弁当  500.0\n4   2020-09-03            照り焼きチキン弁当  500.0\n4   2020-09-03                 豚麻婆丼  350.0\n4   2020-09-03          イカフライ豚ネギ塩弁当  400.0\n4   2020-09-03          焼き鮭ミートボール弁当  400.0\n4   2020-09-03              牛プルコギ弁当  450.0\n4   2020-09-03                 洋風弁当  500.0\n5   2020-09-04             味噌生姜焼き弁当  500.0\n5   2020-09-04            おにぎりバスケット  350.0\n5   2020-09-04          タルタル唐揚げ南蛮弁当  400.0\n5   2020-09-04             回鍋肉＆焼売弁当  400.0\n5   2020-09-04         こだわりつくねバーグ弁当  450.0\n5   2020-09-04                幕の内弁当  500.0\n\n[150 rows x 3 columns]",
      "text/html": "<div>\n<style scoped>\n    .dataframe tbody tr th:only-of-type {\n        vertical-align: middle;\n    }\n\n    .dataframe tbody tr th {\n        vertical-align: top;\n    }\n\n    .dataframe thead th {\n        text-align: right;\n    }\n</style>\n<table border=\"1\" class=\"dataframe\">\n  <thead>\n    <tr style=\"text-align: right;\">\n      <th></th>\n      <th>Date</th>\n      <th>Menu</th>\n      <th>Price</th>\n    </tr>\n  </thead>\n  <tbody>\n    <tr>\n      <th>1</th>\n      <td>2020-08-03</td>\n      <td>チリザンギ弁当</td>\n      <td>500.0</td>\n    </tr>\n    <tr>\n      <th>1</th>\n      <td>2020-08-03</td>\n      <td>ミニ幕の内弁当</td>\n      <td>350.0</td>\n    </tr>\n    <tr>\n      <th>1</th>\n      <td>2020-08-03</td>\n      <td>焼きサバ弁当</td>\n      <td>400.0</td>\n    </tr>\n    <tr>\n      <th>1</th>\n      <td>2020-08-03</td>\n      <td>豚ネギ塩白身フライ弁当</td>\n      <td>400.0</td>\n    </tr>\n    <tr>\n      <th>1</th>\n      <td>2020-08-03</td>\n      <td>ロコモコ弁当</td>\n      <td>450.0</td>\n    </tr>\n    <tr>\n      <th>1</th>\n      <td>2020-08-03</td>\n      <td>チーズinハンバーグ弁当</td>\n      <td>500.0</td>\n    </tr>\n    <tr>\n      <th>2</th>\n      <td>2020-08-04</td>\n      <td>タラのバジル焼き弁当</td>\n      <td>500.0</td>\n    </tr>\n    <tr>\n      <th>2</th>\n      <td>2020-08-04</td>\n      <td>牛ビビンバ丼</td>\n      <td>350.0</td>\n    </tr>\n    <tr>\n      <th>2</th>\n      <td>2020-08-04</td>\n      <td>レモンペッパーチキン弁当</td>\n      <td>400.0</td>\n    </tr>\n    <tr>\n      <th>2</th>\n      <td>2020-08-04</td>\n      <td>のり弁当</td>\n      <td>400.0</td>\n    </tr>\n    <tr>\n      <th>2</th>\n      <td>2020-08-04</td>\n      <td>ジャージャー麺</td>\n      <td>450.0</td>\n    </tr>\n    <tr>\n      <th>2</th>\n      <td>2020-08-04</td>\n      <td>手作り醬油ザンギ弁当</td>\n      <td>500.0</td>\n    </tr>\n    <tr>\n      <th>3</th>\n      <td>2020-08-05</td>\n      <td>牛焼肉弁当</td>\n      <td>500.0</td>\n    </tr>\n    <tr>\n      <th>3</th>\n      <td>2020-08-05</td>\n      <td>鶏中華丼</td>\n      <td>350.0</td>\n    </tr>\n    <tr>\n      <th>3</th>\n      <td>2020-08-05</td>\n      <td>和風おろしハンバーグ弁当</td>\n      <td>400.0</td>\n    </tr>\n    <tr>\n      <th>3</th>\n      <td>2020-08-05</td>\n      <td>メルルーサのパセリバターオイル焼き弁当</td>\n      <td>400.0</td>\n    </tr>\n    <tr>\n      <th>3</th>\n      <td>2020-08-05</td>\n      <td>こだわりのトンテキ弁当</td>\n      <td>450.0</td>\n    </tr>\n    <tr>\n      <th>3</th>\n      <td>2020-08-05</td>\n      <td>二色の行楽弁当</td>\n      <td>500.0</td>\n    </tr>\n    <tr>\n      <th>4</th>\n      <td>2020-08-06</td>\n      <td>照り焼きチキン弁当</td>\n      <td>500.0</td>\n    </tr>\n    <tr>\n      <th>4</th>\n      <td>2020-08-06</td>\n      <td>豚麻婆丼</td>\n      <td>350.0</td>\n    </tr>\n    <tr>\n      <th>4</th>\n      <td>2020-08-06</td>\n      <td>イカフライ豚ネギ塩弁当</td>\n      <td>400.0</td>\n    </tr>\n    <tr>\n      <th>4</th>\n      <td>2020-08-06</td>\n      <td>焼き鮭ミートボール弁当</td>\n      <td>400.0</td>\n    </tr>\n    <tr>\n      <th>4</th>\n      <td>2020-08-06</td>\n      <td>牛プルコギ弁当</td>\n      <td>450.0</td>\n    </tr>\n    <tr>\n      <th>4</th>\n      <td>2020-08-06</td>\n      <td>洋風弁当</td>\n      <td>500.0</td>\n    </tr>\n    <tr>\n      <th>5</th>\n      <td>2020-08-07</td>\n      <td>豚山賊焼き弁当</td>\n      <td>500.0</td>\n    </tr>\n    <tr>\n      <th>5</th>\n      <td>2020-08-07</td>\n      <td>おにぎりバスケット</td>\n      <td>350.0</td>\n    </tr>\n    <tr>\n      <th>5</th>\n      <td>2020-08-07</td>\n      <td>タルタル唐揚げ南蛮弁当</td>\n      <td>400.0</td>\n    </tr>\n    <tr>\n      <th>5</th>\n      <td>2020-08-07</td>\n      <td>回鍋肉＆焼売弁当</td>\n      <td>400.0</td>\n    </tr>\n    <tr>\n      <th>5</th>\n      <td>2020-08-07</td>\n      <td>こだわりつくねバーグ弁当</td>\n      <td>450.0</td>\n    </tr>\n    <tr>\n      <th>5</th>\n      <td>2020-08-07</td>\n      <td>幕の内弁当</td>\n      <td>500.0</td>\n    </tr>\n    <tr>\n      <th>...</th>\n      <td>...</td>\n      <td>...</td>\n      <td>...</td>\n    </tr>\n    <tr>\n      <th>1</th>\n      <td>2020-08-31</td>\n      <td>チリザンギ弁当</td>\n      <td>500.0</td>\n    </tr>\n    <tr>\n      <th>1</th>\n      <td>2020-08-31</td>\n      <td>ミニ幕の内弁当</td>\n      <td>350.0</td>\n    </tr>\n    <tr>\n      <th>1</th>\n      <td>2020-08-31</td>\n      <td>焼きサバ弁当</td>\n      <td>400.0</td>\n    </tr>\n    <tr>\n      <th>1</th>\n      <td>2020-08-31</td>\n      <td>豚ネギ塩白身フライ弁当</td>\n      <td>400.0</td>\n    </tr>\n    <tr>\n      <th>1</th>\n      <td>2020-08-31</td>\n      <td>ロコモコ弁当</td>\n      <td>450.0</td>\n    </tr>\n    <tr>\n      <th>1</th>\n      <td>2020-08-31</td>\n      <td>チーズinハンバーグ弁当</td>\n      <td>500.0</td>\n    </tr>\n    <tr>\n      <th>2</th>\n      <td>2020-09-01</td>\n      <td>タラのバジル焼き弁当</td>\n      <td>500.0</td>\n    </tr>\n    <tr>\n      <th>2</th>\n      <td>2020-09-01</td>\n      <td>牛ビビンバ丼</td>\n      <td>350.0</td>\n    </tr>\n    <tr>\n      <th>2</th>\n      <td>2020-09-01</td>\n      <td>レモンペッパーチキン弁当</td>\n      <td>400.0</td>\n    </tr>\n    <tr>\n      <th>2</th>\n      <td>2020-09-01</td>\n      <td>のり弁当</td>\n      <td>400.0</td>\n    </tr>\n    <tr>\n      <th>2</th>\n      <td>2020-09-01</td>\n      <td>ジャージャー麺</td>\n      <td>450.0</td>\n    </tr>\n    <tr>\n      <th>2</th>\n      <td>2020-09-01</td>\n      <td>手作り醬油ザンギ弁当</td>\n      <td>500.0</td>\n    </tr>\n    <tr>\n      <th>3</th>\n      <td>2020-09-02</td>\n      <td>牛焼肉弁当</td>\n      <td>500.0</td>\n    </tr>\n    <tr>\n      <th>3</th>\n      <td>2020-09-02</td>\n      <td>鶏中華丼</td>\n      <td>350.0</td>\n    </tr>\n    <tr>\n      <th>3</th>\n      <td>2020-09-02</td>\n      <td>和風おろしハンバーグ弁当</td>\n      <td>400.0</td>\n    </tr>\n    <tr>\n      <th>3</th>\n      <td>2020-09-02</td>\n      <td>メルルーサのパセリバターオイル焼き弁当</td>\n      <td>400.0</td>\n    </tr>\n    <tr>\n      <th>3</th>\n      <td>2020-09-02</td>\n      <td>こだわりのトンテキ弁当</td>\n      <td>450.0</td>\n    </tr>\n    <tr>\n      <th>3</th>\n      <td>2020-09-02</td>\n      <td>二色の行楽弁当</td>\n      <td>500.0</td>\n    </tr>\n    <tr>\n      <th>4</th>\n      <td>2020-09-03</td>\n      <td>照り焼きチキン弁当</td>\n      <td>500.0</td>\n    </tr>\n    <tr>\n      <th>4</th>\n      <td>2020-09-03</td>\n      <td>豚麻婆丼</td>\n      <td>350.0</td>\n    </tr>\n    <tr>\n      <th>4</th>\n      <td>2020-09-03</td>\n      <td>イカフライ豚ネギ塩弁当</td>\n      <td>400.0</td>\n    </tr>\n    <tr>\n      <th>4</th>\n      <td>2020-09-03</td>\n      <td>焼き鮭ミートボール弁当</td>\n      <td>400.0</td>\n    </tr>\n    <tr>\n      <th>4</th>\n      <td>2020-09-03</td>\n      <td>牛プルコギ弁当</td>\n      <td>450.0</td>\n    </tr>\n    <tr>\n      <th>4</th>\n      <td>2020-09-03</td>\n      <td>洋風弁当</td>\n      <td>500.0</td>\n    </tr>\n    <tr>\n      <th>5</th>\n      <td>2020-09-04</td>\n      <td>味噌生姜焼き弁当</td>\n      <td>500.0</td>\n    </tr>\n    <tr>\n      <th>5</th>\n      <td>2020-09-04</td>\n      <td>おにぎりバスケット</td>\n      <td>350.0</td>\n    </tr>\n    <tr>\n      <th>5</th>\n      <td>2020-09-04</td>\n      <td>タルタル唐揚げ南蛮弁当</td>\n      <td>400.0</td>\n    </tr>\n    <tr>\n      <th>5</th>\n      <td>2020-09-04</td>\n      <td>回鍋肉＆焼売弁当</td>\n      <td>400.0</td>\n    </tr>\n    <tr>\n      <th>5</th>\n      <td>2020-09-04</td>\n      <td>こだわりつくねバーグ弁当</td>\n      <td>450.0</td>\n    </tr>\n    <tr>\n      <th>5</th>\n      <td>2020-09-04</td>\n      <td>幕の内弁当</td>\n      <td>500.0</td>\n    </tr>\n  </tbody>\n</table>\n<p>150 rows × 3 columns</p>\n</div>"
     },
     "metadata": {},
     "execution_count": 44
    }
   ],
   "source": [
    "import os\n",
    "import sys\n",
    "import pandas as pd\n",
    "import openpyxl\n",
    "\n",
    "PWD = os.getcwd()\n",
    "EXCEL_DIR = '{}/../database/shokuraku'.format(PWD)\n",
    "\n",
    "# This month's daily lunch menu\n",
    "excel_list = os.listdir(EXCEL_DIR)\n",
    "excel_this_month = excel_list[-1]\n",
    "lunch_menu = pd.read_excel(os.path.join(\n",
    "    EXCEL_DIR, excel_this_month), skiprows=46, skipfooter=2, usecols=list(range(12, 36)), header=None).dropna(how='all', axis=1)\n",
    "menu_excel = pd.DataFrame(index=[], columns=['Date', 'Menu', 'Price'])\n",
    "for i in list(range(0, 45, 11)):\n",
    "    menu_excel = pd.concat([menu_excel, skrk.tidy_lunch_menu_a_week(lunch_menu[i:(i + 7)])])\n",
    "\n",
    "menu_excel['Date'] = menu_excel['Date'].dt.date\n",
    "menu_excel"
   ]
  },
  {
   "cell_type": "markdown",
   "metadata": {},
   "source": [
    "Menu Listの更新"
   ]
  },
  {
   "cell_type": "code",
   "execution_count": 42,
   "metadata": {},
   "outputs": [
    {
     "output_type": "execute_result",
     "data": {
      "text/plain": "{'spreadsheetId': '1R-yH6ywCrUCQSdsAyQGgxCkeYJtzjHtrNFrhRPkFsiE',\n 'updatedRange': \"'Menu List'!A1:C151\",\n 'updatedRows': 151,\n 'updatedColumns': 3,\n 'updatedCells': 453}"
     },
     "metadata": {},
     "execution_count": 42
    }
   ],
   "source": [
    "# Menu List Worksheet of shokuraku spreadsheet\n",
    "skrk_worksheet = skrk.get_worksheet(worksheet_name = 'Menu List')\n",
    "\n",
    "menu_excel['Date'] = menu_excel['Date'].apply(lambda x: x.strftime('%Y/%m/%d'))\n",
    "skrk_worksheet.update([menu_excel.columns.values.tolist()] + menu_excel.values.tolist(), value_input_option='USER_ENTERED')"
   ]
  },
  {
   "cell_type": "markdown",
   "metadata": {},
   "source": [
    "taskの作成"
   ]
  },
  {
   "cell_type": "code",
   "execution_count": 102,
   "metadata": {},
   "outputs": [
    {
     "output_type": "execute_result",
     "data": {
      "text/plain": "          Date  is_holiday  update_monthly_menu  check_order  \\\n0   2020-08-03           0                    0            1   \n1   2020-08-04           0                    0            0   \n2   2020-08-05           0                    0            0   \n3   2020-08-06           0                    0            0   \n4   2020-08-07           0                    0            0   \n5   2020-08-10           1                    0            1   \n6   2020-08-11           0                    0            0   \n7   2020-08-12           0                    0            0   \n8   2020-08-13           1                    0            0   \n9   2020-08-14           1                    0            0   \n10  2020-08-17           0                    0            1   \n11  2020-08-18           0                    0            0   \n12  2020-08-19           0                    0            0   \n13  2020-08-20           0                    0            0   \n14  2020-08-21           0                    0            0   \n15  2020-08-24           0                    0            1   \n16  2020-08-25           0                    0            0   \n17  2020-08-26           0                    0            0   \n18  2020-08-27           0                    0            0   \n19  2020-08-28           0                    0            0   \n20  2020-08-31           0                    1            1   \n21  2020-09-01           0                    0            0   \n22  2020-09-02           0                    0            0   \n23  2020-09-03           0                    0            0   \n24  2020-09-04           0                    0            0   \n\n    update_order_list  update_db  \n0                   1          0  \n1                   0          0  \n2                   0          0  \n3                   0          1  \n4                   0          0  \n5                   1          0  \n6                   0          1  \n7                   0          0  \n8                   0          0  \n9                   0          0  \n10                  1          0  \n11                  0          0  \n12                  0          0  \n13                  0          1  \n14                  0          0  \n15                  1          0  \n16                  0          0  \n17                  0          0  \n18                  0          1  \n19                  0          0  \n20                  1          0  \n21                  0          0  \n22                  0          0  \n23                  0          1  \n24                  0          0  ",
      "text/html": "<div>\n<style scoped>\n    .dataframe tbody tr th:only-of-type {\n        vertical-align: middle;\n    }\n\n    .dataframe tbody tr th {\n        vertical-align: top;\n    }\n\n    .dataframe thead th {\n        text-align: right;\n    }\n</style>\n<table border=\"1\" class=\"dataframe\">\n  <thead>\n    <tr style=\"text-align: right;\">\n      <th></th>\n      <th>Date</th>\n      <th>is_holiday</th>\n      <th>update_monthly_menu</th>\n      <th>check_order</th>\n      <th>update_order_list</th>\n      <th>update_db</th>\n    </tr>\n  </thead>\n  <tbody>\n    <tr>\n      <th>0</th>\n      <td>2020-08-03</td>\n      <td>0</td>\n      <td>0</td>\n      <td>1</td>\n      <td>1</td>\n      <td>0</td>\n    </tr>\n    <tr>\n      <th>1</th>\n      <td>2020-08-04</td>\n      <td>0</td>\n      <td>0</td>\n      <td>0</td>\n      <td>0</td>\n      <td>0</td>\n    </tr>\n    <tr>\n      <th>2</th>\n      <td>2020-08-05</td>\n      <td>0</td>\n      <td>0</td>\n      <td>0</td>\n      <td>0</td>\n      <td>0</td>\n    </tr>\n    <tr>\n      <th>3</th>\n      <td>2020-08-06</td>\n      <td>0</td>\n      <td>0</td>\n      <td>0</td>\n      <td>0</td>\n      <td>1</td>\n    </tr>\n    <tr>\n      <th>4</th>\n      <td>2020-08-07</td>\n      <td>0</td>\n      <td>0</td>\n      <td>0</td>\n      <td>0</td>\n      <td>0</td>\n    </tr>\n    <tr>\n      <th>5</th>\n      <td>2020-08-10</td>\n      <td>1</td>\n      <td>0</td>\n      <td>1</td>\n      <td>1</td>\n      <td>0</td>\n    </tr>\n    <tr>\n      <th>6</th>\n      <td>2020-08-11</td>\n      <td>0</td>\n      <td>0</td>\n      <td>0</td>\n      <td>0</td>\n      <td>1</td>\n    </tr>\n    <tr>\n      <th>7</th>\n      <td>2020-08-12</td>\n      <td>0</td>\n      <td>0</td>\n      <td>0</td>\n      <td>0</td>\n      <td>0</td>\n    </tr>\n    <tr>\n      <th>8</th>\n      <td>2020-08-13</td>\n      <td>1</td>\n      <td>0</td>\n      <td>0</td>\n      <td>0</td>\n      <td>0</td>\n    </tr>\n    <tr>\n      <th>9</th>\n      <td>2020-08-14</td>\n      <td>1</td>\n      <td>0</td>\n      <td>0</td>\n      <td>0</td>\n      <td>0</td>\n    </tr>\n    <tr>\n      <th>10</th>\n      <td>2020-08-17</td>\n      <td>0</td>\n      <td>0</td>\n      <td>1</td>\n      <td>1</td>\n      <td>0</td>\n    </tr>\n    <tr>\n      <th>11</th>\n      <td>2020-08-18</td>\n      <td>0</td>\n      <td>0</td>\n      <td>0</td>\n      <td>0</td>\n      <td>0</td>\n    </tr>\n    <tr>\n      <th>12</th>\n      <td>2020-08-19</td>\n      <td>0</td>\n      <td>0</td>\n      <td>0</td>\n      <td>0</td>\n      <td>0</td>\n    </tr>\n    <tr>\n      <th>13</th>\n      <td>2020-08-20</td>\n      <td>0</td>\n      <td>0</td>\n      <td>0</td>\n      <td>0</td>\n      <td>1</td>\n    </tr>\n    <tr>\n      <th>14</th>\n      <td>2020-08-21</td>\n      <td>0</td>\n      <td>0</td>\n      <td>0</td>\n      <td>0</td>\n      <td>0</td>\n    </tr>\n    <tr>\n      <th>15</th>\n      <td>2020-08-24</td>\n      <td>0</td>\n      <td>0</td>\n      <td>1</td>\n      <td>1</td>\n      <td>0</td>\n    </tr>\n    <tr>\n      <th>16</th>\n      <td>2020-08-25</td>\n      <td>0</td>\n      <td>0</td>\n      <td>0</td>\n      <td>0</td>\n      <td>0</td>\n    </tr>\n    <tr>\n      <th>17</th>\n      <td>2020-08-26</td>\n      <td>0</td>\n      <td>0</td>\n      <td>0</td>\n      <td>0</td>\n      <td>0</td>\n    </tr>\n    <tr>\n      <th>18</th>\n      <td>2020-08-27</td>\n      <td>0</td>\n      <td>0</td>\n      <td>0</td>\n      <td>0</td>\n      <td>1</td>\n    </tr>\n    <tr>\n      <th>19</th>\n      <td>2020-08-28</td>\n      <td>0</td>\n      <td>0</td>\n      <td>0</td>\n      <td>0</td>\n      <td>0</td>\n    </tr>\n    <tr>\n      <th>20</th>\n      <td>2020-08-31</td>\n      <td>0</td>\n      <td>1</td>\n      <td>1</td>\n      <td>1</td>\n      <td>0</td>\n    </tr>\n    <tr>\n      <th>21</th>\n      <td>2020-09-01</td>\n      <td>0</td>\n      <td>0</td>\n      <td>0</td>\n      <td>0</td>\n      <td>0</td>\n    </tr>\n    <tr>\n      <th>22</th>\n      <td>2020-09-02</td>\n      <td>0</td>\n      <td>0</td>\n      <td>0</td>\n      <td>0</td>\n      <td>0</td>\n    </tr>\n    <tr>\n      <th>23</th>\n      <td>2020-09-03</td>\n      <td>0</td>\n      <td>0</td>\n      <td>0</td>\n      <td>0</td>\n      <td>1</td>\n    </tr>\n    <tr>\n      <th>24</th>\n      <td>2020-09-04</td>\n      <td>0</td>\n      <td>0</td>\n      <td>0</td>\n      <td>0</td>\n      <td>0</td>\n    </tr>\n  </tbody>\n</table>\n</div>"
     },
     "metadata": {},
     "execution_count": 102
    }
   ],
   "source": [
    "# Menu List Worksheet of shokuraku spreadsheet\n",
    "skrk_worksheet = skrk.get_worksheet(worksheet_name = 'Menu List')\n",
    "\n",
    "# Menu List Worksheet of shokuraku spreadsheet\n",
    "df = skrk.get_dataframe(skrk_worksheet)\n",
    "df['Date'] = pd.to_datetime(df['Date'])\n",
    "df['day_name'] = pd.to_datetime(df['Date']).dt.day_name()\n",
    "df['Date'] = df['Date'].dt.date\n",
    "\n",
    "# drop duplicated schedule\n",
    "df['is_holiday'] = df['Date'].map(skrk.is_holiday).astype(int)\n",
    "df = df.loc[:, ['Date', 'is_holiday', 'day_name']].drop_duplicates(subset='Date')\n",
    "df.reset_index(inplace=True)\n",
    "\n",
    "# update monthly menu\n",
    "df['update_monthly_menu'] = np.nan\n",
    "df['update_monthly_menu'].iloc[-5] = 1\n",
    "\n",
    "# check order\n",
    "df.loc[df['day_name'] == 'Monday', 'check_order'] = 1\n",
    "\n",
    "# update order list\n",
    "df.loc[df['day_name'] == 'Monday', 'update_order_list'] = 1\n",
    "\n",
    "# update database\n",
    "df_weekday = df.copy()\n",
    "df_weekday['is_holiday_lag'] = df_weekday['is_holiday'] - df_weekday['is_holiday'].shift(-1)\n",
    "df_weekday.loc[(df_weekday['day_name'] == 'Friday') & (df_weekday['is_holiday'] == 0) & (df_weekday['is_holiday_lag'] == 0), 'update_db'] = 1\n",
    "df_weekday.loc[(df_weekday['is_holiday'] == 0) & (df_weekday['is_holiday_lag'] == -1), 'update_db'] = 1\n",
    "df_weekday['update_db'] = df_weekday['update_db'].shift(-1)\n",
    "df_weekday['update_db'].iloc[-2] = 1\n",
    "df_weekday = df_weekday[df_weekday['is_holiday'] == 0].loc[:, ['update_db']]\n",
    "\n",
    "df_task = df.join(df_weekday).drop(['index', 'day_name'], axis=1)\n",
    "df_task = df_task.fillna(0)\n",
    "\n",
    "df_task[df_task.select_dtypes(['float64']).columns] = df_task.select_dtypes(['float64']).apply(lambda x: x.astype('int16'))\n",
    "df_task"
   ]
  },
  {
   "cell_type": "markdown",
   "metadata": {},
   "source": [
    "Taskを更新"
   ]
  },
  {
   "cell_type": "code",
   "execution_count": 46,
   "metadata": {},
   "outputs": [
    {
     "output_type": "execute_result",
     "data": {
      "text/plain": "{'spreadsheetId': '1R-yH6ywCrUCQSdsAyQGgxCkeYJtzjHtrNFrhRPkFsiE',\n 'updatedRange': 'Task!A1:F26',\n 'updatedRows': 26,\n 'updatedColumns': 6,\n 'updatedCells': 156}"
     },
     "metadata": {},
     "execution_count": 46
    }
   ],
   "source": [
    "# Menu List Worksheet of shokuraku spreadsheet\n",
    "skrk_worksheet = skrk.get_worksheet(worksheet_name = 'Task')\n",
    "\n",
    "df_task['Date'] = df_task['Date'].apply(lambda x: x.strftime('%Y/%m/%d'))\n",
    "skrk_worksheet.update([df_task.columns.values.tolist()] + df_task.values.tolist(), value_input_option='USER_ENTERED')\n",
    "\n"
   ]
  },
  {
   "cell_type": "markdown",
   "metadata": {},
   "source": [
    "本日のTaskを取得"
   ]
  },
  {
   "cell_type": "code",
   "execution_count": 47,
   "metadata": {},
   "outputs": [
    {
     "output_type": "execute_result",
     "data": {
      "text/plain": "        Date is_holiday update_monthly_menu check_order update_order_list  \\\n0 2020-08-14          1                   0           0                 1   \n\n  update_db  \n0         0  ",
      "text/html": "<div>\n<style scoped>\n    .dataframe tbody tr th:only-of-type {\n        vertical-align: middle;\n    }\n\n    .dataframe tbody tr th {\n        vertical-align: top;\n    }\n\n    .dataframe thead th {\n        text-align: right;\n    }\n</style>\n<table border=\"1\" class=\"dataframe\">\n  <thead>\n    <tr style=\"text-align: right;\">\n      <th></th>\n      <th>Date</th>\n      <th>is_holiday</th>\n      <th>update_monthly_menu</th>\n      <th>check_order</th>\n      <th>update_order_list</th>\n      <th>update_db</th>\n    </tr>\n  </thead>\n  <tbody>\n    <tr>\n      <th>0</th>\n      <td>2020-08-14</td>\n      <td>1</td>\n      <td>0</td>\n      <td>0</td>\n      <td>1</td>\n      <td>0</td>\n    </tr>\n  </tbody>\n</table>\n</div>"
     },
     "metadata": {},
     "execution_count": 47
    }
   ],
   "source": [
    "# Menu List Worksheet of shokuraku spreadsheet\n",
    "skrk_worksheet = skrk.get_worksheet(worksheet_name = 'Task')\n",
    "\n",
    "# Get the data from Menu List Worksheet\n",
    "skrk_task = skrk.get_dataframe(skrk_worksheet)\n",
    "\n",
    "# Substract today's Task\n",
    "# TODAY = datetime.now(timezone(timedelta(hours=+9), 'JST')).date()\n",
    "TODAY = datetime.now(timezone(timedelta(hours=+9), 'JST')).date() + timedelta(days = -1)\n",
    "skrk_task_today = skrk_task[skrk_task['Date'] == TODAY].reset_index(drop=True)\n",
    "skrk_task_today"
   ]
  },
  {
   "cell_type": "markdown",
   "metadata": {},
   "source": [
    "Glide UIの来週のMenuを更新"
   ]
  },
  {
   "cell_type": "code",
   "execution_count": 9,
   "metadata": {
    "tags": []
   },
   "outputs": [
    {
     "output_type": "execute_result",
     "data": {
      "text/plain": "{'spreadsheetId': '1KUf84xr-IfxHUlP47_SrT_2pwL6D546umb8xGBsx_9I',\n 'updatedRange': \"'Glide UI'!A1:C31\",\n 'updatedRows': 31,\n 'updatedColumns': 3,\n 'updatedCells': 93}"
     },
     "metadata": {},
     "execution_count": 9
    }
   ],
   "source": [
    "# Get the data from Menu List Worksheet\n",
    "skrk_df_menu_list = skrk.get_dataframe(skrk_worksheet)\n",
    "skrk_df_menu_list['Date'] = pd.to_datetime(skrk_df_menu_list['Date'])\n",
    "\n",
    "# TODAY = datetime.now(timezone(timedelta(hours=+9), 'JST')).date()\n",
    "TODAY = datetime.strptime('2020/07/29', '%Y/%m/%d').date()\n",
    "\n",
    "skrk_df_menu = skrk_df_menu_list[(skrk_df_menu_list['Date'] >= TODAY + timedelta(days=5)) & (skrk_df_menu_list['Date'] < TODAY + timedelta(days=10))]\n",
    "\n",
    "# Glide UI Worksheet of shokuraku spreadsheet\n",
    "skrk_worksheet = skrk.get_worksheet(worksheet_name = 'Glide UI')\n",
    "\n",
    "skrk_df_menu['Date'] = skrk_df_menu['Date'].dt.strftime('%Y/%m/%d')\n",
    "skrk_worksheet.update([skrk_df_menu.columns.values.tolist()] + skrk_df_menu.values.tolist(), value_input_option='USER_ENTERED')"
   ]
  },
  {
   "cell_type": "markdown",
   "metadata": {},
   "source": [
    "個人のOrder Listを更新"
   ]
  },
  {
   "cell_type": "code",
   "execution_count": 23,
   "metadata": {},
   "outputs": [
    {
     "output_type": "execute_result",
     "data": {
      "text/plain": "{'spreadsheetId': '1KUf84xr-IfxHUlP47_SrT_2pwL6D546umb8xGBsx_9I',\n 'updatedRange': \"'Order List Personal'!A1:C34\",\n 'updatedRows': 34,\n 'updatedColumns': 3,\n 'updatedCells': 102}"
     },
     "metadata": {},
     "execution_count": 23
    }
   ],
   "source": [
    "# Summary Worksheet of database spreadsheet\n",
    "db_worksheet = db.get_worksheet(worksheet_name = 'Summary')\n",
    "\n",
    "# Get the data from Summary Worksheet\n",
    "db_df = db.get_dataframe(db_worksheet)\n",
    "db_df['Date'] = pd.to_datetime(db_df['Date'])\n",
    "\n",
    "TODAY = datetime.strptime('2020/07/23', '%Y/%m/%d').date()\n",
    "\n",
    "# db_df_today = db_df[db_df['Date'] == TODAY].drop(['Price', 'Count'], axis=1)\n",
    "db_df_today = db_df[(db_df['Date'] >= TODAY) & (db_df['Date'] < TODAY + timedelta(days=5))].drop(['Price', 'Count'], axis=1)\n",
    "\n",
    "# Menu List Worksheet of shokuraku spreadsheet\n",
    "skrk_worksheet = skrk.get_worksheet(worksheet_name = 'Order List Personal')\n",
    "\n",
    "skrk_worksheet.clrear()\n",
    "\n",
    "db_df_today['Date'] = db_df_today['Date'].dt.strftime('%Y/%m/%d')\n",
    "skrk_worksheet.update([db_df_today.columns.values.tolist()] + db_df_today.values.tolist(), value_input_option='USER_ENTERED')\n"
   ]
  },
  {
   "cell_type": "code",
   "execution_count": 24,
   "metadata": {},
   "outputs": [
    {
     "output_type": "execute_result",
     "data": {
      "text/plain": "           Date      Name                 Menu\n80   2020/07/13       Ito                回鍋肉弁当\n81   2020/07/13  Koyanagi            唐揚げエビチリ弁当\n82   2020/07/13   Noumura                回鍋肉弁当\n83   2020/07/13     Saito            唐揚げエビチリ弁当\n84   2020/07/13      Sato                回鍋肉弁当\n85   2020/07/13  Takeuchi  メルルーサのパセリバターオイル焼き弁当\n86   2020/07/13    Uemura                回鍋肉弁当\n87   2020/07/14       Ito              二色の行楽弁当\n88   2020/07/14  Koyanagi                 鶏中華丼\n89   2020/07/14     Saito              二色の行楽弁当\n90   2020/07/14      Sato              塩だれ焼肉弁当\n91   2020/07/14  Takeuchi          サバのマリネのっけ弁当\n92   2020/07/14    Uemura              二色の行楽弁当\n93   2020/07/15       Ito                幕の内弁当\n94   2020/07/15  Koyanagi             アジの塩焼き弁当\n95   2020/07/15     Saito                幕の内弁当\n96   2020/07/15      Sato            柚子胡椒チキン弁当\n97   2020/07/15  Takeuchi             アジの塩焼き弁当\n98   2020/07/15    Uemura           おろしハンバーグ弁当\n99   2020/07/16       Ito                 洋風弁当\n100  2020/07/16  Koyanagi                 三色弁当\n101  2020/07/16   Noumura              チキンカツ弁当\n102  2020/07/16     Saito                 洋風弁当\n103  2020/07/16      Sato                 三色弁当\n104  2020/07/16  Takeuchi              チキンカツ弁当\n105  2020/07/16    Uemura                 洋風弁当\n106  2020/07/17       Ito                俺の担々麺\n107  2020/07/17  Koyanagi          焼き鮭ミートボール弁当\n108  2020/07/17   Noumura            ポークチャップ弁当\n109  2020/07/17     Saito                 和風弁当\n110  2020/07/17      Sato          生姜焼きメンチカツ弁当\n111  2020/07/17  Takeuchi          焼き鮭ミートボール弁当\n112  2020/07/17    Uemura                 和風弁当",
      "text/html": "<div>\n<style scoped>\n    .dataframe tbody tr th:only-of-type {\n        vertical-align: middle;\n    }\n\n    .dataframe tbody tr th {\n        vertical-align: top;\n    }\n\n    .dataframe thead th {\n        text-align: right;\n    }\n</style>\n<table border=\"1\" class=\"dataframe\">\n  <thead>\n    <tr style=\"text-align: right;\">\n      <th></th>\n      <th>Date</th>\n      <th>Name</th>\n      <th>Menu</th>\n    </tr>\n  </thead>\n  <tbody>\n    <tr>\n      <th>80</th>\n      <td>2020/07/13</td>\n      <td>Ito</td>\n      <td>回鍋肉弁当</td>\n    </tr>\n    <tr>\n      <th>81</th>\n      <td>2020/07/13</td>\n      <td>Koyanagi</td>\n      <td>唐揚げエビチリ弁当</td>\n    </tr>\n    <tr>\n      <th>82</th>\n      <td>2020/07/13</td>\n      <td>Noumura</td>\n      <td>回鍋肉弁当</td>\n    </tr>\n    <tr>\n      <th>83</th>\n      <td>2020/07/13</td>\n      <td>Saito</td>\n      <td>唐揚げエビチリ弁当</td>\n    </tr>\n    <tr>\n      <th>84</th>\n      <td>2020/07/13</td>\n      <td>Sato</td>\n      <td>回鍋肉弁当</td>\n    </tr>\n    <tr>\n      <th>85</th>\n      <td>2020/07/13</td>\n      <td>Takeuchi</td>\n      <td>メルルーサのパセリバターオイル焼き弁当</td>\n    </tr>\n    <tr>\n      <th>86</th>\n      <td>2020/07/13</td>\n      <td>Uemura</td>\n      <td>回鍋肉弁当</td>\n    </tr>\n    <tr>\n      <th>87</th>\n      <td>2020/07/14</td>\n      <td>Ito</td>\n      <td>二色の行楽弁当</td>\n    </tr>\n    <tr>\n      <th>88</th>\n      <td>2020/07/14</td>\n      <td>Koyanagi</td>\n      <td>鶏中華丼</td>\n    </tr>\n    <tr>\n      <th>89</th>\n      <td>2020/07/14</td>\n      <td>Saito</td>\n      <td>二色の行楽弁当</td>\n    </tr>\n    <tr>\n      <th>90</th>\n      <td>2020/07/14</td>\n      <td>Sato</td>\n      <td>塩だれ焼肉弁当</td>\n    </tr>\n    <tr>\n      <th>91</th>\n      <td>2020/07/14</td>\n      <td>Takeuchi</td>\n      <td>サバのマリネのっけ弁当</td>\n    </tr>\n    <tr>\n      <th>92</th>\n      <td>2020/07/14</td>\n      <td>Uemura</td>\n      <td>二色の行楽弁当</td>\n    </tr>\n    <tr>\n      <th>93</th>\n      <td>2020/07/15</td>\n      <td>Ito</td>\n      <td>幕の内弁当</td>\n    </tr>\n    <tr>\n      <th>94</th>\n      <td>2020/07/15</td>\n      <td>Koyanagi</td>\n      <td>アジの塩焼き弁当</td>\n    </tr>\n    <tr>\n      <th>95</th>\n      <td>2020/07/15</td>\n      <td>Saito</td>\n      <td>幕の内弁当</td>\n    </tr>\n    <tr>\n      <th>96</th>\n      <td>2020/07/15</td>\n      <td>Sato</td>\n      <td>柚子胡椒チキン弁当</td>\n    </tr>\n    <tr>\n      <th>97</th>\n      <td>2020/07/15</td>\n      <td>Takeuchi</td>\n      <td>アジの塩焼き弁当</td>\n    </tr>\n    <tr>\n      <th>98</th>\n      <td>2020/07/15</td>\n      <td>Uemura</td>\n      <td>おろしハンバーグ弁当</td>\n    </tr>\n    <tr>\n      <th>99</th>\n      <td>2020/07/16</td>\n      <td>Ito</td>\n      <td>洋風弁当</td>\n    </tr>\n    <tr>\n      <th>100</th>\n      <td>2020/07/16</td>\n      <td>Koyanagi</td>\n      <td>三色弁当</td>\n    </tr>\n    <tr>\n      <th>101</th>\n      <td>2020/07/16</td>\n      <td>Noumura</td>\n      <td>チキンカツ弁当</td>\n    </tr>\n    <tr>\n      <th>102</th>\n      <td>2020/07/16</td>\n      <td>Saito</td>\n      <td>洋風弁当</td>\n    </tr>\n    <tr>\n      <th>103</th>\n      <td>2020/07/16</td>\n      <td>Sato</td>\n      <td>三色弁当</td>\n    </tr>\n    <tr>\n      <th>104</th>\n      <td>2020/07/16</td>\n      <td>Takeuchi</td>\n      <td>チキンカツ弁当</td>\n    </tr>\n    <tr>\n      <th>105</th>\n      <td>2020/07/16</td>\n      <td>Uemura</td>\n      <td>洋風弁当</td>\n    </tr>\n    <tr>\n      <th>106</th>\n      <td>2020/07/17</td>\n      <td>Ito</td>\n      <td>俺の担々麺</td>\n    </tr>\n    <tr>\n      <th>107</th>\n      <td>2020/07/17</td>\n      <td>Koyanagi</td>\n      <td>焼き鮭ミートボール弁当</td>\n    </tr>\n    <tr>\n      <th>108</th>\n      <td>2020/07/17</td>\n      <td>Noumura</td>\n      <td>ポークチャップ弁当</td>\n    </tr>\n    <tr>\n      <th>109</th>\n      <td>2020/07/17</td>\n      <td>Saito</td>\n      <td>和風弁当</td>\n    </tr>\n    <tr>\n      <th>110</th>\n      <td>2020/07/17</td>\n      <td>Sato</td>\n      <td>生姜焼きメンチカツ弁当</td>\n    </tr>\n    <tr>\n      <th>111</th>\n      <td>2020/07/17</td>\n      <td>Takeuchi</td>\n      <td>焼き鮭ミートボール弁当</td>\n    </tr>\n    <tr>\n      <th>112</th>\n      <td>2020/07/17</td>\n      <td>Uemura</td>\n      <td>和風弁当</td>\n    </tr>\n  </tbody>\n</table>\n</div>"
     },
     "metadata": {},
     "execution_count": 24
    }
   ],
   "source": [
    "db_df_today"
   ]
  }
 ],
 "metadata": {
  "language_info": {
   "codemirror_mode": {
    "name": "ipython",
    "version": 3
   },
   "file_extension": ".py",
   "mimetype": "text/x-python",
   "name": "python",
   "nbconvert_exporter": "python",
   "pygments_lexer": "ipython3",
   "version": "3.6.8-final"
  },
  "orig_nbformat": 2,
  "kernelspec": {
   "name": "python36864bitbaed26715afd4d579731fda9721acd1c",
   "display_name": "Python 3.6.8 64-bit"
  }
 },
 "nbformat": 4,
 "nbformat_minor": 2
}